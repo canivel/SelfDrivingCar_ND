{
 "cells": [
  {
   "cell_type": "code",
   "execution_count": 1,
   "metadata": {},
   "outputs": [
    {
     "name": "stdout",
     "output_type": "stream",
     "text": [
      "Imageio: 'ffmpeg.win32.exe' was not found on your computer; downloading it now.\n",
      "Try 1. Download from https://github.com/imageio/imageio-binaries/raw/master/ffmpeg/ffmpeg.win32.exe (27.4 MB)\n",
      "Downloading: 8192/28781056 bytes (0.0319488/28781056 bytes (1.1843776/28781056 bytes (2.91376256/28781056 bytes (4.8%1785856/28781056 bytes (6.2%2310144/28781056 bytes (8.0%2826240/28781056 bytes (9.8%3325952/28781056 bytes (11.63825664/28781056 bytes (13.34358144/28781056 bytes (15.14866048/28781056 bytes (16.95406720/28781056 bytes (18.85931008/28781056 bytes (20.66455296/28781056 bytes (22.46979584/28781056 bytes (24.37495680/28781056 bytes (26.08003584/28781056 bytes (27.88396800/28781056 bytes (29.28937472/28781056 bytes (31.19486336/28781056 bytes (33.09977856/28781056 bytes (34.710502144/28781056 bytes (36.5%11051008/28781056 bytes (38.4%11575296/28781056 bytes (40.2%12099584/28781056 bytes (42.0%12640256/28781056 bytes (43.9%13049856/28781056 bytes (45.3%13590528/28781056 bytes (47.2%14106624/28781056 bytes (49.0%14655488/28781056 bytes (50.9%15196160/28781056 bytes (52.8%15638528/28781056 bytes (54.3%16179200/28781056 bytes (56.2%16687104/28781056 bytes (58.0%17235968/28781056 bytes (59.9%17760256/28781056 bytes (61.7%18309120/28781056 bytes (63.6%18833408/28781056 bytes (65.4%19357696/28781056 bytes (67.3%19914752/28781056 bytes (69.2%20332544/28781056 bytes (70.6%20865024/28781056 bytes (72.5%21389312/28781056 bytes (74.3%21938176/28781056 bytes (76.2%22421504/28781056 bytes (77.9%22986752/28781056 bytes (79.9%23486464/28781056 bytes (81.6%24043520/28781056 bytes (83.5%24576000/28781056 bytes (85.4%25116672/28781056 bytes (87.3%25608192/28781056 bytes (89.0%26124288/28781056 bytes (90.8%26624000/28781056 bytes (92.5%27131904/28781056 bytes (94.3%27639808/28781056 bytes (96.0%28155904/28781056 bytes (97.8%28688384/28781056 bytes (99.7%28781056/28781056 bytes (100.0%)\n",
      "  Done\n",
      "File saved as C:\\Users\\Danilo Canivel\\AppData\\Local\\imageio\\ffmpeg\\ffmpeg.win32.exe.\n"
     ]
    }
   ],
   "source": [
    "import imageio\n",
    "imageio.plugins.ffmpeg.download()"
   ]
  },
  {
   "cell_type": "code",
   "execution_count": null,
   "metadata": {
    "collapsed": true
   },
   "outputs": [],
   "source": []
  }
 ],
 "metadata": {
  "kernelspec": {
   "display_name": "Python 3",
   "language": "python",
   "name": "python3"
  },
  "language_info": {
   "codemirror_mode": {
    "name": "ipython",
    "version": 3
   },
   "file_extension": ".py",
   "mimetype": "text/x-python",
   "name": "python",
   "nbconvert_exporter": "python",
   "pygments_lexer": "ipython3",
   "version": "3.5.2"
  }
 },
 "nbformat": 4,
 "nbformat_minor": 2
}
